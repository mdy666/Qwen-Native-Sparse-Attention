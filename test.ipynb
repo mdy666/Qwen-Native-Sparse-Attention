{
 "cells": [
  {
   "cell_type": "code",
   "execution_count": 3,
   "metadata": {},
   "outputs": [],
   "source": [
    "from transformers import TrainingArguments, Trainer, AutoModelForCausalLM, AutoConfig, Qwen2ForCausalLM\n",
    "from qwen2.patch_nsa import trigger"
   ]
  },
  {
   "cell_type": "code",
   "execution_count": 4,
   "metadata": {},
   "outputs": [],
   "source": [
    "config = AutoConfig.from_pretrained('/sharedata/mdy/code/repo/qwen-nsa/qwen2/config7B.json')\n",
    "model = Qwen2ForCausalLM(config)\n",
    "model.save_pretrained('/sharedata/mdy/models/nsa-7B')"
   ]
  },
  {
   "cell_type": "code",
   "execution_count": 5,
   "metadata": {},
   "outputs": [
    {
     "data": {
      "text/plain": [
       "7680212820"
      ]
     },
     "execution_count": 5,
     "metadata": {},
     "output_type": "execute_result"
    }
   ],
   "source": [
    "model.num_parameters()"
   ]
  },
  {
   "cell_type": "code",
   "execution_count": 1,
   "metadata": {},
   "outputs": [
    {
     "name": "stderr",
     "output_type": "stream",
     "text": [
      "/sharedata/mdy/miniforge/lib/python3.12/site-packages/tqdm/auto.py:21: TqdmWarning: IProgress not found. Please update jupyter and ipywidgets. See https://ipywidgets.readthedocs.io/en/stable/user_install.html\n",
      "  from .autonotebook import tqdm as notebook_tqdm\n"
     ]
    }
   ],
   "source": [
    "from dataset.megatron_gpt_dataset import build_dataset"
   ]
  },
  {
   "cell_type": "code",
   "execution_count": 13,
   "metadata": {},
   "outputs": [
    {
     "name": "stderr",
     "output_type": "stream",
     "text": [
      "[WARNING  | megatron.core.datasets.gpt_dataset]: Unable to save SingleDS indexes because path_to_cache is None\n",
      "[WARNING  | megatron.core.datasets.gpt_dataset]: Unable to save SingleDS indexes because path_to_cache is None\n"
     ]
    }
   ],
   "source": [
    "data_prefix = \"\"\"0.5 /sharedata/mdy/data/pretrain/mixtral/fineweb_edu_en_text_document \\\n",
    "0.5 /sharedata/mdy/data/pretrain/mixtral/fineweb_edu_zh_text_document\"\"\".split(' ')\n",
    "               \n",
    "tokenizer = '/sharedata/mdy/models/SauerkrautLM-Mixtral-8x7B-Instruct'\n",
    "ds = build_dataset(data_prefix, tokenizer_path=tokenizer, seed=888, num_samples=1000)"
   ]
  },
  {
   "cell_type": "code",
   "execution_count": null,
   "metadata": {},
   "outputs": [
    {
     "data": {
      "text/plain": [
       "[2500, 2500]"
      ]
     },
     "execution_count": 8,
     "metadata": {},
     "output_type": "execute_result"
    }
   ],
   "source": []
  },
  {
   "cell_type": "code",
   "execution_count": 32,
   "metadata": {},
   "outputs": [
    {
     "data": {
      "text/plain": [
       "['0.5',\n",
       " '/sharedata/mdy/data/pretrain/mixtral/fineweb_edu_en_text_document',\n",
       " '0.5',\n",
       " '/sharedata/mdy/data/pretrain/mixtral/fineweb_edu_zh_text_document']"
      ]
     },
     "execution_count": 32,
     "metadata": {},
     "output_type": "execute_result"
    }
   ],
   "source": [
    "data_prefix.split(' ')"
   ]
  },
  {
   "cell_type": "code",
   "execution_count": null,
   "metadata": {},
   "outputs": [],
   "source": []
  }
 ],
 "metadata": {
  "kernelspec": {
   "display_name": "Python 3",
   "language": "python",
   "name": "python3"
  },
  "language_info": {
   "codemirror_mode": {
    "name": "ipython",
    "version": 3
   },
   "file_extension": ".py",
   "mimetype": "text/x-python",
   "name": "python",
   "nbconvert_exporter": "python",
   "pygments_lexer": "ipython3",
   "version": "3.12.8"
  }
 },
 "nbformat": 4,
 "nbformat_minor": 2
}
